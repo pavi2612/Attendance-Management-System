{
 "cells": [
  {
   "cell_type": "code",
   "execution_count": 1,
   "id": "aae9864f",
   "metadata": {},
   "outputs": [
    {
     "name": "stdout",
     "output_type": "stream",
     "text": [
      "[0.8760981]\n",
      "[False]\n"
     ]
    },
    {
     "data": {
      "text/plain": [
       "-1"
      ]
     },
     "execution_count": 1,
     "metadata": {},
     "output_type": "execute_result"
    }
   ],
   "source": [
    "import cv2\n",
    "import numpy as np\n",
    "import face_recognition\n",
    "img=face_recognition.load_image_file(\"C:/Users/MUTYALA. SOWMYA/Desktop/project/kohli.jpg\")\n",
    "img=cv2.cvtColor(img,cv2.COLOR_BGR2RGB)\n",
    "imgTest=face_recognition.load_image_file(\"C:/Users/MUTYALA. SOWMYA/Desktop/project/elon.jpg\")\n",
    "imgTest=cv2.cvtColor(imgTest,cv2.COLOR_BGR2RGB)\n",
    "faceLoc=face_recognition.face_locations(img)[0]\n",
    "encode=face_recognition.face_encodings(img)[0]\n",
    "cv2.rectangle(img,(faceLoc[3],faceLoc[0]),(faceLoc[1],faceLoc[2]),(299,0,299),2)\n",
    "faceLocTest=face_recognition.face_locations(imgTest)[0]\n",
    "encodeTest=face_recognition.face_encodings(imgTest)[0]\n",
    "cv2.rectangle(imgTest,(faceLocTest[3],faceLocTest[0]),(faceLocTest[1],faceLocTest[2]),(299,0,299),2)\n",
    "results=face_recognition.compare_faces([encode],encodeTest)\n",
    "faceDis=face_recognition.face_distance([encode],encodeTest)\n",
    "print(faceDis)\n",
    "print(results)\n",
    "cv2.putText(img,f'{results}{round(faceDis[0],2)}',(50,50),cv2.FONT_HERSHEY_COMPLEX,1,(0,0,255),2)\n",
    "cv2.imshow(\"virat\",img)\n",
    "cv2.imshow(\"Test\",imgTest)\n",
    "cv2.waitKey(0)"
   ]
  },
  {
   "cell_type": "code",
   "execution_count": 1,
   "id": "86e6a1fb",
   "metadata": {},
   "outputs": [
    {
     "ename": "ModuleNotFoundError",
     "evalue": "No module named 'cv2'",
     "output_type": "error",
     "traceback": [
      "\u001b[1;31m---------------------------------------------------------------------------\u001b[0m",
      "\u001b[1;31mModuleNotFoundError\u001b[0m                       Traceback (most recent call last)",
      "Input \u001b[1;32mIn [1]\u001b[0m, in \u001b[0;36m<cell line: 1>\u001b[1;34m()\u001b[0m\n\u001b[1;32m----> 1\u001b[0m \u001b[38;5;28;01mimport\u001b[39;00m \u001b[38;5;21;01mcv2\u001b[39;00m\n\u001b[0;32m      2\u001b[0m \u001b[38;5;28;01mimport\u001b[39;00m \u001b[38;5;21;01mnumpy\u001b[39;00m \u001b[38;5;28;01mas\u001b[39;00m \u001b[38;5;21;01mnp\u001b[39;00m\n\u001b[0;32m      3\u001b[0m \u001b[38;5;28;01mimport\u001b[39;00m \u001b[38;5;21;01mface_recognition\u001b[39;00m\n",
      "\u001b[1;31mModuleNotFoundError\u001b[0m: No module named 'cv2'"
     ]
    }
   ],
   "source": [
    "import cv2\n",
    "import numpy as np\n",
    "import face_recognition\n",
    "import os\n",
    "from datetime import datetime\n",
    "path=\"C:/Users/MUTYALA. SOWMYA/Desktop/attendance\"\n",
    "images=[]\n",
    "classNames=[]\n",
    "myList=os.listdir(path)\n",
    "print(myList)\n",
    "for cl in myList:\n",
    "    curImg=cv2.imread(f'{path}/{cl}')\n",
    "    images.append(curImg)\n",
    "    classNames.append(os.path.splitext(cl)[0])\n",
    "print(classNames)\n",
    "\n",
    "def findEncodings(images):\n",
    "    encodeList=[]\n",
    "    for img in images:\n",
    "        img=cv2.cvtColor(img,cv2.COLOR_BGR2RGB)\n",
    "        encode=face_recognition.face_encodings(img)[0]\n",
    "        encodeList.append(encode)\n",
    "    return encodeList\n",
    "\n",
    "def markAttendance(name):\n",
    "    with open(\"C:/Users/MUTYALA. SOWMYA/Desktop/attendance sheet.csv\",'r+')as f:\n",
    "        myDataList=f.readlines()\n",
    "        print(myDataList)\n",
    "        nameList=[]\n",
    "        for line in myDataList:\n",
    "            entry=line.split(',')\n",
    "            nameList.append(entry[0])\n",
    "        if name not in nameList:\n",
    "            now=datetime.now()\n",
    "            dtstring=now.strftime(\"%H:%M:%S\")\n",
    "            f.writelines(f'\\n{name},{dtstring}')\n",
    "encodeListKnown=findEncodings(images)\n",
    "print(\"Encoding Complete\")\n",
    "cap=cv2.VideoCapture(0)\n",
    "while True:\n",
    "    success, img=cap.read()\n",
    "    imgS=cv2.resize(img,(0,0),None,0.25,0.25)\n",
    "    img=cv2.cvtColor(img,cv2.COLOR_BGR2RGB)\n",
    "    faceCurFrame=face_recognition.face_locations(imgS)\n",
    "    encodeCurFrame=face_recognition.face_encodings(imgS,faceCurFrame)\n",
    "    for encodeFace,faceLoc in zip(encodeCurFrame,faceCurFrame):\n",
    "        matches=face_recognition.compare_faces(encodeListKnown,encodeFace)\n",
    "        faceDis=face_recognition.face_distance(encodeListKnown,encodeFace)\n",
    "       #print(faceDis)\n",
    "        matchIndex=np.argmin(faceDis)\n",
    "        \n",
    "        if matches[matchIndex]:\n",
    "            name=classNames[matchIndex].upper()\n",
    "           #print(name)\n",
    "            y1,x2,y2,x1=faceLoc\n",
    "            y1,x2,y2,x1=y1*4,x2*7,y2*4,x1*4\n",
    "            cv2.rectangle(img,(x1,y1),(x2,y2),(0,255,0),2)\n",
    "            cv2.rectangle(img,(x1,y1-35),(x2,y2),(0,255,0),2)\n",
    "            cv2.putText(img,name,(x1+6,y2-6),cv2.FONT_HERSHEY_COMPLEX,1,(255,255,255),2)\n",
    "            markAttendance(name)\n",
    "    cv2.imshow('webcam',img)\n",
    "    cv2.waitKey(1)"
   ]
  },
  {
   "cell_type": "code",
   "execution_count": null,
   "id": "d1f0a08c",
   "metadata": {},
   "outputs": [],
   "source": []
  },
  {
   "cell_type": "code",
   "execution_count": null,
   "id": "e93797ee",
   "metadata": {},
   "outputs": [],
   "source": []
  },
  {
   "cell_type": "code",
   "execution_count": null,
   "id": "e7306f60",
   "metadata": {},
   "outputs": [],
   "source": []
  },
  {
   "cell_type": "code",
   "execution_count": null,
   "id": "33e109dc",
   "metadata": {},
   "outputs": [],
   "source": []
  },
  {
   "cell_type": "code",
   "execution_count": null,
   "id": "d8d0972c",
   "metadata": {},
   "outputs": [],
   "source": []
  }
 ],
 "metadata": {
  "kernelspec": {
   "display_name": "Python 3 (ipykernel)",
   "language": "python",
   "name": "python3"
  },
  "language_info": {
   "codemirror_mode": {
    "name": "ipython",
    "version": 3
   },
   "file_extension": ".py",
   "mimetype": "text/x-python",
   "name": "python",
   "nbconvert_exporter": "python",
   "pygments_lexer": "ipython3",
   "version": "3.9.12"
  }
 },
 "nbformat": 4,
 "nbformat_minor": 5
}
